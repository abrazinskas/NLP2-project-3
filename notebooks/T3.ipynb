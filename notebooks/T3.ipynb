{
 "cells": [
  {
   "cell_type": "markdown",
   "metadata": {
    "collapsed": true
   },
   "source": [
    "<h2>T3</h2>"
   ]
  },
  {
   "cell_type": "markdown",
   "metadata": {},
   "source": [
    "We have trained IBM1 model with collocations, and present results below. The general setup was to use 1k words, batch_size=25, max_length=20, lr = 0.0005, emb_dim=64, mlp_dim = 128, and Adam optimizer. For inference we used only P(F|E) PMF as it's the only one that depends on English words. \n"
   ]
  },
  {
   "cell_type": "markdown",
   "metadata": {},
   "source": [
    "<h3>Accuracy</h3>\n",
    "<div class=\"plots\">\n",
    "\n",
    "<img src=\"plots/collocations_accuracy.png\" />\n",
    "\n",
    "\n",
    "</div>"
   ]
  },
  {
   "cell_type": "markdown",
   "metadata": {},
   "source": [
    "<h3>Loss</h3>\n",
    "<div class=\"plots\">\n",
    "\n",
    "<img src=\"plots/collocations_loss.png\"/>\n",
    "\n",
    "\n",
    "</div>\n"
   ]
  },
  {
   "cell_type": "markdown",
   "metadata": {},
   "source": [
    "<h3>AER</h3>\n",
    "<div class=\"plots\">\n",
    "\n",
    "<img src=\"plots/collocations_aer.png\"/>\n",
    "\n",
    "\n",
    "</div>\n"
   ]
  },
  {
   "cell_type": "markdown",
   "metadata": {},
   "source": [
    "We also evaluated our trained models on a separate test set, and the results were the following: 0.29 accuracy and 0.81 AER. "
   ]
  },
  {
   "cell_type": "markdown",
   "metadata": {},
   "source": [
    "<h2>Conclusion</h2>\n",
    "Similary to T2, the model outperforms the baseline based on accuracy. However, it producs very high AER, and converges to a state where a majority of French words are aligned to null tokens. This problem can be explained by a small vocabulary or by the fact that more complex models are not necessarily are better at capturing latent assignments. "
   ]
  }
 ],
 "metadata": {
  "anaconda-cloud": {},
  "kernelspec": {
   "display_name": "Python 3",
   "language": "python",
   "name": "python3"
  },
  "language_info": {
   "codemirror_mode": {
    "name": "ipython",
    "version": 3
   },
   "file_extension": ".py",
   "mimetype": "text/x-python",
   "name": "python",
   "nbconvert_exporter": "python",
   "pygments_lexer": "ipython3",
   "version": "3.6.1"
  }
 },
 "nbformat": 4,
 "nbformat_minor": 1
}
